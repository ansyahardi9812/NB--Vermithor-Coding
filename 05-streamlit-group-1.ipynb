{
 "cells": [
  {
   "cell_type": "markdown",
   "id": "58f6f111",
   "metadata": {},
   "source": [
    "## Group 1: Aplikasi Kalkulator Diskon Belanja\n",
    "\n",
    "### 🛒 Studi Kasus:\n",
    "Kamu sedang berbelanja di supermarket. Total belanjaan kamu akan mendapat diskon otomatis berdasarkan jumlah yang dibelanjakan:\n",
    "\n",
    "- Belanja < Rp100.000 → tidak ada diskon  \n",
    "- Rp100.000 – Rp199.999 → diskon 5%  \n",
    "- Rp200.000 – Rp299.999 → diskon 8%  \n",
    "- Rp300.000 ke atas → diskon 10%\n",
    "\n",
    "### Tujuan:\n",
    "- Input: total belanja dari user\n",
    "- Output:\n",
    "  - Besar diskon\n",
    "  - Jumlah potongan harga\n",
    "  - Total harga setelah diskon"
   ]
  }
 ],
 "metadata": {
  "language_info": {
   "name": "python"
  }
 },
 "nbformat": 4,
 "nbformat_minor": 5
}
