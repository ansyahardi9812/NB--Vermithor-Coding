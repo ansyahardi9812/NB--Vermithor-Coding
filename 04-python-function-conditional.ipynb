{
 "cells": [
  {
   "cell_type": "markdown",
   "metadata": {},
   "source": []
  },
  {
   "cell_type": "markdown",
   "metadata": {},
   "source": [
    "# Function & Condition"
   ]
  },
  {
   "cell_type": "markdown",
   "metadata": {},
   "source": [
    "## **Function**\n",
    "### **Apa Itu Fungsi (Function)?**\n",
    "Fungsi adalah blok kode yang hanya akan dijalankan ketika dipanggil. Tujuannya adalah agar kita bisa menulis kode yang lebih rapih, efisien, dan tidak berulang-ulang.\n",
    "\n",
    "### **Kenapa Fungsi Penting?**\n",
    "\t- Menghindari penulisan kode berulang (Don’t Repeat Yourself/DRY)\n",
    "\t- Membuat program lebih modular dan mudah dikelola\n",
    "\t- Meningkatkan keterbacaan dan debugging\n",
    "\n",
    "### **Struktur Dasar Fungsi**\n",
    "```py\n",
    "def nama_fungsi(parameter1, parameter2):\n",
    "    # kode program\n",
    "    return hasil\n",
    "```\n",
    "\n",
    "  \t- def → keyword untuk mendefinisikan fungsi\n",
    "  \t- parameter → nilai input (optional)\n",
    "  \t- return → nilai keluaran (optional)\n"
   ]
  },
  {
   "cell_type": "markdown",
   "metadata": {},
   "source": [
    "### Macam-Macam Fungsi\n",
    "#### 1. Fungsi Tanpa Parameter dan Return"
   ]
  },
  {
   "cell_type": "markdown",
   "metadata": {},
   "source": [
    "- Ini kayak menyambut pengguna tanpa butuh data dari luar.\n",
    "- Cukup dipanggil aja: tampilkan_welcome(), dia langsung jalan."
   ]
  },
  {
   "cell_type": "code",
   "execution_count": 30,
   "metadata": {},
   "outputs": [
    {
     "name": "stdout",
     "output_type": "stream",
     "text": [
      "Selamat datang di Quiz App!\n",
      "Selamat datang di Quiz App!\n"
     ]
    }
   ],
   "source": [
    "def tampilkan_welcome():\n",
    "    print(\"Selamat datang di Quiz App!\")\n",
    "\n",
    "tampilkan_welcome()\n",
    "tampilkan_welcome()"
   ]
  },
  {
   "cell_type": "code",
   "execution_count": 33,
   "metadata": {},
   "outputs": [
    {
     "name": "stdout",
     "output_type": "stream",
     "text": [
      "==============================\n",
      "Selamat datang di Quiz App!\n",
      "==============================\n",
      "==============================\n",
      "Selamat datang di Quiz App!\n",
      "==============================\n",
      "==============================\n",
      "Selamat datang di Quiz App!\n",
      "==============================\n"
     ]
    }
   ],
   "source": [
    "def welcome():\n",
    "    print(\"=\" * 30)\n",
    "    print(\"Selamat datang di Quiz App!\")\n",
    "    print(\"=\" * 30)\n",
    "\n",
    "welcome()\n",
    "welcome()\n",
    "welcome()"
   ]
  },
  {
   "cell_type": "markdown",
   "metadata": {},
   "source": [
    "#### 2. Fungsi Dengan Parameter"
   ]
  },
  {
   "cell_type": "markdown",
   "metadata": {},
   "source": [
    "- Ini kayak fungsi sebelumnya, tapi butuh input dari luar (dalam hal ini: nama).\n",
    "- Kamu bisa kasih nama berbeda-beda pas manggil fungsi: sapa_user(\"Mareta\"), sapa_user(\"Ali\"), dll."
   ]
  },
  {
   "cell_type": "code",
   "execution_count": 35,
   "metadata": {},
   "outputs": [
    {
     "name": "stdout",
     "output_type": "stream",
     "text": [
      "Halo Budi, siap mengikuti quiz?\n",
      "Halo Siti, siap mengikuti quiz?\n",
      "Halo Andi, siap mengikuti quiz?\n",
      "Halo Dewi, siap mengikuti quiz?\n"
     ]
    }
   ],
   "source": [
    "def sapa_user(nama):\n",
    "    print(f\"Halo {nama}, siap mengikuti quiz?\")\n",
    "\n",
    "\n",
    "sapa_user(\"Budi\")\n",
    "sapa_user(\"Siti\")\n",
    "sapa_user(\"Andi\")\n",
    "sapa_user(\"Dewi\")"
   ]
  },
  {
   "cell_type": "markdown",
   "metadata": {},
   "source": [
    "Analogi:\n",
    "Kayak kamu nyapa temenmu, tapi dengan nyebut nama mereka satu-satu. “Halo Mareta!”, “Halo Ali!”, dst."
   ]
  },
  {
   "cell_type": "markdown",
   "metadata": {},
   "source": [
    "#### 3. Fungsi Dengan Return"
   ]
  },
  {
   "cell_type": "markdown",
   "metadata": {},
   "source": [
    "Fungsi dengan return itu kayak mesin yang ngolah sesuatu dan ngembalikan hasilnya.\n",
    "\n",
    "- return itu cara fungsi mengembalikan hasil.\n",
    "\n",
    "##### Kalau fungsi diibaratkan seperti dapur masak, maka:\n",
    "- Parameter (input) = bahan masakan\n",
    "- Isi fungsi = proses masak\n",
    "- return = hasil masak yang keluar dari dapur 🍝"
   ]
  },
  {
   "cell_type": "markdown",
   "metadata": {},
   "source": [
    "Bayangin kamu punya kalkulator mini.\n",
    "\n",
    "- Kamu masukin 2 angka → kalkulator ngitung → lalu ngasih hasilnya balik ke kamu.\n",
    "Nah itulah return."
   ]
  },
  {
   "cell_type": "code",
   "execution_count": 36,
   "metadata": {},
   "outputs": [
    {
     "name": "stdout",
     "output_type": "stream",
     "text": [
      "5\n",
      "5\n"
     ]
    }
   ],
   "source": [
    "def tambah(a, b):\n",
    "    return a + b\n",
    "\n",
    "\n",
    "# cara pakainya \n",
    "print(tambah(2, 3))\n",
    "\n",
    "# atau disimpan dulu di variabel\n",
    "hasil = tambah(2, 3)\n",
    "print(hasil)"
   ]
  },
  {
   "cell_type": "markdown",
   "metadata": {},
   "source": [
    "Ini artinya: fungsi tambah akan menjumlahkan a dan b, lalu mengembalikan hasilnya.\n"
   ]
  },
  {
   "cell_type": "code",
   "execution_count": null,
   "metadata": {},
   "outputs": [],
   "source": [
    "def sapa():\n",
    "    return \"Halo!\"\n",
    "\n",
    "x = sapa()\n",
    "print(x)  # Output: Halo!"
   ]
  },
  {
   "cell_type": "code",
   "execution_count": 38,
   "metadata": {},
   "outputs": [
    {
     "name": "stdout",
     "output_type": "stream",
     "text": [
      "Jawaban kamu SALAH!\n"
     ]
    }
   ],
   "source": [
    "def cek_jawaban(user, benar):\n",
    "    if user.lower() == benar.lower():\n",
    "        return 1\n",
    "    else:\n",
    "        return 0\n",
    "    \n",
    "jawaban_user = input(\"Apa ibu kota Jepang? \")\n",
    "hasil = cek_jawaban(jawaban_user, \"Tokyo\")\n",
    "\n",
    "if hasil == 1:\n",
    "    print(\"Jawaban kamu BENAR!\")\n",
    "else:\n",
    "    print(\"Jawaban kamu SALAH!\")"
   ]
  },
  {
   "cell_type": "markdown",
   "metadata": {},
   "source": [
    "## Conditional\n",
    "Conditional statements adalah cara kita memberi tahu komputer untuk mengambil keputusan berdasarkan kondisi tertentu.\n",
    "\n",
    "Bayangkan kamu sedang bersiap keluar rumah:\n",
    "\n",
    "If hujan 🌧️ → bawa payung ☂️\n",
    "\n",
    "Else (tidak hujan) 🌤️ → langsung jalan 🚶‍♀️"
   ]
  },
  {
   "cell_type": "markdown",
   "metadata": {},
   "source": [
    "Secara umum, ada beberapa jenis conditional statements dalam Python:\n",
    "\n",
    "**If** statement — untuk menjalankan kode jika suatu kondisi benar.\n",
    "\n",
    "**If-Else** statement — untuk menangani dua kemungkinan: benar atau salah.\n",
    "\n",
    "**If-Elif-Else** statement — untuk memeriksa beberapa kondisi secara berurutan.\n",
    "\n",
    "**Nested If** statement — untuk kondisi bertingkat atau bercabang."
   ]
  },
  {
   "cell_type": "markdown",
   "metadata": {},
   "source": [
    "### `if`\n",
    "\n",
    "Apa itu if statement?\n",
    "\n",
    "if statement digunakan untuk menjalankan kode hanya jika suatu kondisi **benar** (**True**). Jika kondisinya salah (False), kode di dalam if akan dilewati.\n",
    "\n",
    "Format dasarnya:\n",
    "\n",
    "\n",
    "\n",
    "```\n",
    "if kondisi:\n",
    "    # kode yang akan dijalankan jika kondisi True\n",
    "\n",
    "```\n",
    "\n",
    "\n",
    "\n",
    "\n",
    "\n",
    "Contoh:\n",
    "```\n",
    "angka = 10\n",
    "if angka > 5:\n",
    "    print(\"Angka ini lebih besar dari 5!\")\n",
    "```\n",
    "\n",
    "📝 Penjelasan:\n",
    "\n",
    "Komputer akan **mengecek apakah angka > 5**.\n",
    "Karena 10 memang lebih besar dari 5, maka perintah di dalam if akan dieksekusi.\n",
    "\n",
    "\n",
    "Output:\n",
    "\n",
    "`Angka ini lebih besar dari 5!`"
   ]
  },
  {
   "cell_type": "markdown",
   "metadata": {},
   "source": [
    "### `if` - `else`\n",
    "\n",
    "Apa itu if-else statement?\n",
    "\n",
    "Terkadang, kita juga butuh pilihan kedua jika kondisi pertama tidak terpenuhi. Nah, di sinilah else digunakan.\n",
    "\n",
    "Format dasarnya:\n",
    "\n",
    "\n",
    "\n",
    "```\n",
    "if kondisi:\n",
    "    # kode jika kondisi True\n",
    "else:\n",
    "    # kode jika kondisi False\n",
    "```\n",
    "\n",
    "contoh:\n",
    "\n",
    "\n",
    "```\n",
    "cuaca = \"hujan\"\n",
    "\n",
    "if cuaca == \"hujan\":\n",
    "    print(\"Bawa payung!\")\n",
    "else:\n",
    "    print(\"Nggak perlu payung!\")\n",
    "```\n",
    "\n",
    "📝 Penjelasan:\n",
    "Jika variabel cuaca berisi \"**hujan**\", program akan mencetak \"**Bawa payung!**\". Kalau tidak, akan mencetak \"Nggak perlu payung!\".\n",
    "\n",
    "Output:\n",
    "\n",
    "\n",
    "```\n",
    "Bawa payung!\n",
    "```\n",
    "\n",
    "\n"
   ]
  },
  {
   "cell_type": "markdown",
   "metadata": {},
   "source": [
    "### `if` - `elif` - `else`\n",
    "\n",
    "Kalau kita punya lebih dari dua pilihan, kita bisa pakai **elif** (else if). Ini berguna untuk mengatur banyak kondisi sekaligus.\n",
    "\n",
    "`elif` adalah kata kunci yang merupakan singkatan dari `else if`. Ini adalah cara untuk menambahkan kondisi lain ke conditional kita.\n",
    "\n",
    "\n",
    "\n",
    "Format dasarnya:\n",
    "\n",
    "\n",
    "```\n",
    "if kondisi_1:\n",
    "    # kode jika kondisi_1 True\n",
    "elif kondisi_2:\n",
    "    # kode jika kondisi_2 True\n",
    "else:\n",
    "    # kode jika semua kondisi False\n",
    "```\n",
    "\n",
    "Contoh:\n",
    "\n",
    "\n",
    "```\n",
    "nilai = 85\n",
    "\n",
    "if nilai >= 90:\n",
    "    print(\"Nilai kamu: A\")\n",
    "elif nilai >= 75:\n",
    "    print(\"Nilai kamu: B\")\n",
    "else:\n",
    "    print(\"Nilai kamu: C\")\n",
    "```\n",
    "\n",
    "📝 Penjelasan:\n",
    "\n",
    "Program akan mengecek satu per satu:\n",
    "\n",
    "Apakah nilai >= 90? Wah ternyata **salah** nih!\n",
    "\n",
    "Apakah nilai >= 75? **Benar** — jadi akan mencetak \"**Nilai kamu: B**\".\n",
    "\n",
    "Output:\n",
    "\n",
    "\n",
    "```\n",
    "Nilai kamu: B\n",
    "```\n",
    "\n"
   ]
  },
  {
   "cell_type": "markdown",
   "metadata": {},
   "source": [
    "\n",
    "### Operator Perbandingan\n",
    "\n",
    "| Operator | Arti                  | Contoh         |\n",
    "|----------|-----------------------|----------------|\n",
    "| `==`     | Sama dengan           | `a == b`       |\n",
    "| `!=`     | Tidak sama dengan     | `a != b`       |\n",
    "| `>`      | Lebih besar dari      | `a > b`        |\n",
    "| `<`      | Lebih kecil dari      | `a < b`        |\n",
    "| `>=`     | Lebih besar atau sama | `a >= b`       |\n",
    "| `<=`     | Lebih kecil atau sama | `a <= b`       |\n"
   ]
  },
  {
   "cell_type": "markdown",
   "metadata": {},
   "source": [
    "\n",
    "### Operator Logika\n",
    "\n",
    "Kadang kita ingin mengecek lebih dari satu kondisi sekaligus. Untuk itu kita bisa menggunakan:\n",
    "\n",
    "- `and`: Kedua kondisi harus benar\n",
    "- `or`: Salah satu kondisi cukup benar\n",
    "- `not`: Membalik nilai kondisi\n",
    "\n",
    "Contoh:\n",
    "\n",
    "```python\n",
    "umur = 20\n",
    "punya_ktp = True\n",
    "\n",
    "if umur >= 17 and punya_ktp:\n",
    "    print(\"Boleh ikut pemilu\")\n",
    "```\n"
   ]
  },
  {
   "cell_type": "markdown",
   "metadata": {},
   "source": [
    "\n",
    "### Studi Kasus: Kuis Pilihan Ganda\n",
    "\n",
    "Misalkan kamu sedang membuat quiz. Jika jawaban user adalah \"B\", maka tampilkan \"Jawaban benar!\".\n"
   ]
  },
  {
   "cell_type": "code",
   "execution_count": null,
   "metadata": {},
   "outputs": [],
   "source": [
    "jawaban = \"B\"\n",
    "\n",
    "if jawaban == \"B\":\n",
    "    print(\"Jawaban benar!\")\n",
    "else:\n",
    "    print(\"Jawaban salah, coba lagi.\")"
   ]
  },
  {
   "cell_type": "markdown",
   "metadata": {},
   "source": [
    "# Tantangan\n",
    "Yuk kerjakan beberapa tantangan di bawah ini! Sebelum mengerjakan tantangan, jangan lupa masukkan student ID kamu ya!"
   ]
  },
  {
   "cell_type": "code",
   "execution_count": null,
   "metadata": {},
   "outputs": [],
   "source": [
    "%pip install rggrader\n",
    "\n",
    "from rggrader import submit\n",
    "\n",
    "# @title #### Student Identity\n",
    "student_id = \"JASMINE\"  # @param {type:\"string\"}\n",
    "name = \"Jasmine\"  # @param {type:\"string\"}"
   ]
  },
  {
   "cell_type": "markdown",
   "metadata": {},
   "source": [
    "## Tantangan 1 - Circle Area Function"
   ]
  },
  {
   "cell_type": "code",
   "execution_count": null,
   "metadata": {},
   "outputs": [],
   "source": [
    "# @title #### 00. Circle Area Function\n",
    "from rggrader import submit\n",
    "import math\n",
    "\n",
    "rad = 5\n",
    "\n",
    "# TODO: Define a function 'calculate_area' that takes a radius as a parameter and returns the area of a circle with that radius.\n",
    "def calculate_circle_area(radius):\n",
    "  \n",
    "\n",
    "print(f\"The area of the circle with radius {rad} is {calculate_circle_area(rad)}\")\n",
    "\n",
    "# Submit Method\n",
    "assignment_id = \"04-function-conditional\"\n",
    "question_id = \"01_circle-area-function\"\n",
    "submit(student_id, name, assignment_id, str(calculate_circle_area(rad)), question_id)\n",
    "\n",
    "# Expected Output for rad=5: 78.53981633974483"
   ]
  },
  {
   "cell_type": "markdown",
   "metadata": {},
   "source": [
    "## Tantangan 2 - Pengecek Ganjil atau Genap"
   ]
  },
  {
   "cell_type": "code",
   "execution_count": null,
   "metadata": {},
   "outputs": [],
   "source": [
    "from rggrader import submit\n",
    "\n",
    "num = 37 \n",
    "\n",
    "# TODO: Buatlah sebuah fungsi bernama 'check_odd_even' yang menerima satu parameter berupa bilangan bulat.\n",
    "# Fungsi harus mengembalikan string \"Genap\" jika angka tersebut genap, dan \"Ganjil\" jika angka tersebut ganjil.\n",
    "\n",
    "def check_odd_even(number):\n",
    "   \n",
    "\n",
    "print(f\"Angka {num} adalah {check_odd_even(num)}\")\n",
    "\n",
    "# Submit Method\n",
    "assignment_id = \"04-function-conditional\"\n",
    "question_id = \"02_odd-even-checker\"\n",
    "submit(student_id, name, assignment_id, str(check_odd_even(num)), question_id)\n",
    "\n",
    "# Expected Output jika num = 37:\n",
    "# Angka 37 adalah Ganjil\n"
   ]
  }
 ],
 "metadata": {
  "kernelspec": {
   "display_name": "myenv",
   "language": "python",
   "name": "python3"
  },
  "language_info": {
   "codemirror_mode": {
    "name": "ipython",
    "version": 3
   },
   "file_extension": ".py",
   "mimetype": "text/x-python",
   "name": "python",
   "nbconvert_exporter": "python",
   "pygments_lexer": "ipython3",
   "version": "3.10.17"
  }
 },
 "nbformat": 4,
 "nbformat_minor": 2
}
