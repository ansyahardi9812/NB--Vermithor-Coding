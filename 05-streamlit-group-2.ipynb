{
 "cells": [
  {
   "cell_type": "markdown",
   "id": "4d82b5ed",
   "metadata": {},
   "source": [
    "# Group 2: Aplikasi Tebak Umur\n",
    "\n",
    "## 📅 Studi Kasus:\n",
    "\n",
    "Seorang siswa ingin tahu umur temannya berdasarkan tahun lahir. Buat aplikasi sederhana untuk menghitung umur saat ini.\n",
    "\n",
    "## Tujuan:\n",
    "\t•\tInput: tahun lahir\n",
    "\t•\tOutput: umur sekarang"
   ]
  }
 ],
 "metadata": {
  "language_info": {
   "name": "python"
  }
 },
 "nbformat": 4,
 "nbformat_minor": 5
}
