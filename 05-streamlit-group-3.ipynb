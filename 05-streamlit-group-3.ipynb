{
 "cells": [
  {
   "cell_type": "markdown",
   "id": "f06f2cee",
   "metadata": {},
   "source": [
    "# Group 3: Aplikasi Prediksi Mood Berdasarkan Cuaca\n",
    "\n",
    "## Studi Kasus:\n",
    "\n",
    "Seseorang percaya suasana hati dipengaruhi oleh cuaca. Buat aplikasi sederhana yang “memprediksi mood” berdasarkan input cuaca hari ini.\n",
    "\n",
    "## Tujuan:\n",
    "\t•\tInput: pilihan cuaca (dropdown)\n",
    "\t•\tOutput: teks prediksi mood"
   ]
  }
 ],
 "metadata": {
  "language_info": {
   "name": "python"
  }
 },
 "nbformat": 4,
 "nbformat_minor": 5
}
